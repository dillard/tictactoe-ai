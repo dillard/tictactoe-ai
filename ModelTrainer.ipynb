{
 "cells": [
  {
   "cell_type": "code",
   "execution_count": 1,
   "metadata": {
    "collapsed": false
   },
   "outputs": [],
   "source": [
    "import tensorflow.keras as keras\n",
    "import matplotlib.pyplot as plt\n",
    "import numpy as np\n",
    "\n",
    "import train"
   ]
  },
  {
   "cell_type": "code",
   "execution_count": 2,
   "metadata": {
    "collapsed": true
   },
   "outputs": [],
   "source": [
    "model = keras.models.Sequential()\n",
    "model.add(keras.layers.InputLayer(batch_input_shape=(1, 9)))\n",
    "model.add(keras.layers.Dense(18, activation='sigmoid'))\n",
    "model.add(keras.layers.Dense(9, activation='linear'))\n",
    "model.compile(loss='mse', optimizer='adam', metrics=['mae'])"
   ]
  },
  {
   "cell_type": "code",
   "execution_count": 3,
   "metadata": {
    "collapsed": false
   },
   "outputs": [
    {
     "name": "stdout",
     "output_type": "stream",
     "text": [
      "Game 1 of 100.\n",
      "Game 11 of 100.\n",
      "Game 21 of 100.\n",
      "Game 31 of 100.\n",
      "Game 41 of 100.\n",
      "Game 51 of 100.\n",
      "Game 61 of 100.\n",
      "Game 71 of 100.\n",
      "Game 81 of 100.\n",
      "Game 91 of 100.\n"
     ]
    }
   ],
   "source": [
    "num_games = 100\n",
    "outcomes = train.q_learning(model, num_games)"
   ]
  },
  {
   "cell_type": "code",
   "execution_count": 4,
   "metadata": {
    "collapsed": false
   },
   "outputs": [],
   "source": [
    "outcomes = np.array(outcomes)\n",
    "local_length = 10\n",
    "interval = 1\n",
    "recent_percent_invalid = [np.vectorize(lambda x: int(x==-1))(outcomes[n : n+local_length]).sum() / local_length\n",
    "                          for n in range(0, len(outcomes) - local_length, interval)]\n",
    "recent_percent_loss = [np.vectorize(lambda x: int(x==0))(outcomes[n : n+local_length]).sum() / local_length\n",
    "                          for n in range(0, len(outcomes) - local_length, interval)]\n",
    "recent_percent_tie = [np.vectorize(lambda x: int(x==1))(outcomes[n : n+local_length]).sum() / local_length\n",
    "                          for n in range(0, len(outcomes) - local_length, interval)]\n",
    "recent_percent_win = [np.vectorize(lambda x: int(x==2))(outcomes[n : n+local_length]).sum() / local_length\n",
    "                          for n in range(0, len(outcomes) - local_length, interval)]"
   ]
  },
  {
   "cell_type": "code",
   "execution_count": 5,
   "metadata": {
    "collapsed": false,
    "scrolled": false
   },
   "outputs": [
    {
     "data": {
      "text/plain": [
       "(-0.01, 1.01)"
      ]
     },
     "execution_count": 5,
     "metadata": {},
     "output_type": "execute_result"
    },
    {
     "data": {
      "image/png": "[encoded data removed]",
      "text/plain": [
       "<Figure size 720x432 with 1 Axes>"
      ]
     },
     "metadata": {
      "needs_background": "light"
     },
     "output_type": "display_data"
    }
   ],
   "source": [
    "fig = plt.figure(figsize=(10, 6))\n",
    "ax = fig.add_subplot(1, 1, 1)\n",
    "y_lenth = len(recent_percent_invalid)\n",
    "ax.plot(list(range(y_lenth)), recent_percent_invalid, 'r')\n",
    "ax.plot(list(range(y_lenth)), recent_percent_loss, 'k')\n",
    "ax.plot(list(range(y_lenth)), recent_percent_tie, 'b')\n",
    "ax.plot(list(range(y_lenth)), recent_percent_win, 'g')\n",
    "ax.set_ylim(-0.01, 1.01)"
   ]
  },
  {
   "cell_type": "code",
   "execution_count": null,
   "metadata": {
    "collapsed": true
   },
   "outputs": [],
   "source": []
  },
  {
   "cell_type": "code",
   "execution_count": 6,
   "metadata": {
    "collapsed": true
   },
   "outputs": [],
   "source": [
    "training_metadata = {'y': 0.95,\n",
    "                     'eps': 0.5,\n",
    "                     'decay_factor': 0.999,\n",
    "                     'rewards': (0, 0.25, 0.5, 2),\n",
    "                     'outcomes': outcomes,\n",
    "                     'state_values': (1, 0, -1)}"
   ]
  },
  {
   "cell_type": "code",
   "execution_count": 11,
   "metadata": {
    "collapsed": false
   },
   "outputs": [
    {
     "name": "stdout",
     "output_type": "stream",
     "text": [
      "INFO:tensorflow:Assets written to: model_v1\\assets\n"
     ]
    }
   ],
   "source": [
    "model_directory = 'model_v1'\n",
    "model.save(model_directory)"
   ]
  },
  {
   "cell_type": "code",
   "execution_count": 12,
   "metadata": {
    "collapsed": true
   },
   "outputs": [],
   "source": [
    "m = keras.models.load_model(model_directory)"
   ]
  },
  {
   "cell_type": "code",
   "execution_count": 13,
   "metadata": {
    "collapsed": false
   },
   "outputs": [
    {
     "name": "stdout",
     "output_type": "stream",
     "text": [
      "Model: \"sequential\"\n",
      "_________________________________________________________________\n",
      "Layer (type)                 Output Shape              Param #   \n",
      "=================================================================\n",
      "dense (Dense)                (1, 18)                   180       \n",
      "_________________________________________________________________\n",
      "dense_1 (Dense)              (1, 9)                    171       \n",
      "=================================================================\n",
      "Total params: 351\n",
      "Trainable params: 351\n",
      "Non-trainable params: 0\n",
      "_________________________________________________________________\n"
     ]
    }
   ],
   "source": [
    "m.summary()"
   ]
  },
  {
   "cell_type": "code",
   "execution_count": null,
   "metadata": {
    "collapsed": true
   },
   "outputs": [],
   "source": []
  }
 ],
 "metadata": {
  "kernelspec": {
   "display_name": "tictactoe",
   "language": "python",
   "name": "tictactoe"
  },
  "language_info": {
   "codemirror_mode": {
    "name": "ipython",
    "version": 3
   },
   "file_extension": ".py",
   "mimetype": "text/x-python",
   "name": "python",
   "nbconvert_exporter": "python",
   "pygments_lexer": "ipython3",
   "version": "3.5.4"
  }
 },
 "nbformat": 4,
 "nbformat_minor": 0
}
