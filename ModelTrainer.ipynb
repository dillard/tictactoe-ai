{
 "cells": [
  {
   "cell_type": "code",
   "execution_count": null,
   "metadata": {
    "collapsed": false
   },
   "outputs": [],
   "source": [
    "import time\n",
    "\n",
    "import matplotlib.pyplot as plt\n",
    "import numpy as np\n",
    "import pandas as pd\n",
    "import tensorflow as tf\n",
    "\n",
    "import experiment_helpers as eh\n",
    "import train"
   ]
  },
  {
   "cell_type": "code",
   "execution_count": null,
   "metadata": {
    "collapsed": false
   },
   "outputs": [],
   "source": [
    "meta = eh.Metadata()\n",
    "meta._metadata"
   ]
  },
  {
   "cell_type": "code",
   "execution_count": null,
   "metadata": {
    "collapsed": true
   },
   "outputs": [],
   "source": [
    "# Eager execution makes the training and execution ~25x slower.\n",
    "tf.compat.v1.disable_eager_execution()"
   ]
  },
  {
   "cell_type": "code",
   "execution_count": null,
   "metadata": {
    "collapsed": false,
    "scrolled": true
   },
   "outputs": [],
   "source": [
    "layers = [[18, 'sigmoid'],\n",
    "          [9, 'linear']]\n",
    "\n",
    "model = tf.keras.models.Sequential()\n",
    "model.add(tf.keras.layers.Input(shape=(9,)))\n",
    "for layer in layers:\n",
    "    model.add(tf.keras.layers.Dense(layer[0], activation=layer[1]))\n",
    "model.compile(loss='mse', optimizer='adam', metrics=['mae'])\n",
    "model.summary()"
   ]
  },
  {
   "cell_type": "code",
   "execution_count": null,
   "metadata": {
    "collapsed": false
   },
   "outputs": [],
   "source": [
    "num_games = 10000\n",
    "start_time = time.time()\n",
    "(outcomes, metadata) = train.q_learning(model, num_games)\n",
    "end_time = time.time()\n",
    "total_time = end_time - start_time\n",
    "print(\"total time:\", total_time)\n",
    "\n",
    "metadata['training_time'] = total_time\n",
    "metadata['layers'] = layers"
   ]
  },
  {
   "cell_type": "code",
   "execution_count": null,
   "metadata": {
    "collapsed": false
   },
   "outputs": [],
   "source": [
    "(invalid, loss, tie, win) = eh.calculate_training_sequence(outcomes)"
   ]
  },
  {
   "cell_type": "code",
   "execution_count": null,
   "metadata": {
    "collapsed": false,
    "scrolled": false
   },
   "outputs": [],
   "source": [
    "fig = plt.figure(figsize=(10, 6))\n",
    "ax = fig.add_subplot(1, 1, 1)\n",
    "x_length = len(invalid)\n",
    "x_vals = np.array(range(x_length)) * 100 / x_length\n",
    "ax.plot(x_vals, invalid, 'r')\n",
    "ax.plot(x_vals, loss, 'k')\n",
    "ax.plot(x_vals, tie, 'b')\n",
    "ax.plot(x_vals, win, 'g')\n",
    "ax.set_ylim(-0.01, 1.01)\n",
    "ax.set_title('Game outcomes during training', fontsize=20)\n",
    "ax.set_xlabel('Percent of training completed', fontsize=18)\n",
    "ax.set_ylabel('Portion of each outcome', fontsize=18)\n",
    "plt.show()"
   ]
  },
  {
   "cell_type": "code",
   "execution_count": null,
   "metadata": {
    "collapsed": false
   },
   "outputs": [],
   "source": [
    "# Calculate head-to-head stats vs a random player.\n",
    "opponent = 'random'\n",
    "stats = eh.head_to_head(model, opponent)\n",
    "metadata['stats_{}'.format(opponent)] = stats\n",
    "stats"
   ]
  },
  {
   "cell_type": "code",
   "execution_count": null,
   "metadata": {
    "collapsed": false
   },
   "outputs": [],
   "source": [
    "# Get the opening move that this model would make on a blank board.\n",
    "position = eh.evaluate_opening_move(model)\n",
    "metadata['opening_move'] = [int(position[0]), int(position[1])]  # Convert to support JSON serialization.\n",
    "position"
   ]
  },
  {
   "cell_type": "code",
   "execution_count": null,
   "metadata": {
    "collapsed": false
   },
   "outputs": [],
   "source": [
    "metadata"
   ]
  },
  {
   "cell_type": "code",
   "execution_count": null,
   "metadata": {
    "collapsed": false
   },
   "outputs": [],
   "source": []
  },
  {
   "cell_type": "code",
   "execution_count": null,
   "metadata": {
    "collapsed": false
   },
   "outputs": [],
   "source": [
    "# Add the new metadata.\n",
    "version = meta.add_experiment(metadata)\n",
    "meta.exploded_copy()"
   ]
  },
  {
   "cell_type": "code",
   "execution_count": null,
   "metadata": {
    "collapsed": false
   },
   "outputs": [],
   "source": [
    "# Save the metadata\n",
    "meta.save()"
   ]
  },
  {
   "cell_type": "code",
   "execution_count": null,
   "metadata": {
    "collapsed": true
   },
   "outputs": [],
   "source": [
    "# Save the model.\n",
    "# model_directory = 'model_v{}'.format(version)\n",
    "# model.save(model_directory)"
   ]
  }
 ],
 "metadata": {
  "kernelspec": {
   "display_name": "tictactoe",
   "language": "python",
   "name": "tictactoe"
  },
  "language_info": {
   "codemirror_mode": {
    "name": "ipython",
    "version": 3
   },
   "file_extension": ".py",
   "mimetype": "text/x-python",
   "name": "python",
   "nbconvert_exporter": "python",
   "pygments_lexer": "ipython3",
   "version": "3.5.4"
  }
 },
 "nbformat": 4,
 "nbformat_minor": 0
}
