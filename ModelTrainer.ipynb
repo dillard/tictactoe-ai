{
 "cells": [
  {
   "cell_type": "code",
   "execution_count": 1,
   "metadata": {
    "collapsed": false
   },
   "outputs": [],
   "source": [
    "import matplotlib.pyplot as plt\n",
    "import math\n",
    "import numpy as np\n",
    "import pandas as pd\n",
    "import tensorflow as tf\n",
    "import time\n",
    "\n",
    "import train"
   ]
  },
  {
   "cell_type": "code",
   "execution_count": 2,
   "metadata": {
    "collapsed": true
   },
   "outputs": [],
   "source": [
    "tf.compat.v1.disable_eager_execution()"
   ]
  },
  {
   "cell_type": "code",
   "execution_count": 3,
   "metadata": {
    "collapsed": false,
    "scrolled": true
   },
   "outputs": [
    {
     "name": "stdout",
     "output_type": "stream",
     "text": [
      "WARNING:tensorflow:From C:\\Anaconda3\\envs\\tictactoe\\lib\\site-packages\\tensorflow\\python\\ops\\resource_variable_ops.py:1666: calling BaseResourceVariable.__init__ (from tensorflow.python.ops.resource_variable_ops) with constraint is deprecated and will be removed in a future version.\n",
      "Instructions for updating:\n",
      "If using Keras pass *_constraint arguments to layers.\n",
      "Model: \"sequential\"\n",
      "_________________________________________________________________\n",
      "Layer (type)                 Output Shape              Param #   \n",
      "=================================================================\n",
      "dense (Dense)                (None, 18)                180       \n",
      "_________________________________________________________________\n",
      "dense_1 (Dense)              (None, 9)                 171       \n",
      "=================================================================\n",
      "Total params: 351\n",
      "Trainable params: 351\n",
      "Non-trainable params: 0\n",
      "_________________________________________________________________\n"
     ]
    }
   ],
   "source": [
    "model_tf = tf.keras.models.Sequential()\n",
    "model_tf.add(tf.keras.layers.Input(shape=(9,)))\n",
    "model_tf.add(tf.keras.layers.Dense(18, activation='sigmoid'))\n",
    "model_tf.add(tf.keras.layers.Dense(9, activation='linear'))\n",
    "model_tf.compile(loss='mse', optimizer='adam', metrics=['mae'])\n",
    "model_tf.summary()"
   ]
  },
  {
   "cell_type": "code",
   "execution_count": 4,
   "metadata": {
    "collapsed": false
   },
   "outputs": [
    {
     "name": "stdout",
     "output_type": "stream",
     "text": [
      "Game 1 of 100.\n",
      "Game 11 of 100.\n",
      "Game 21 of 100.\n",
      "Game 31 of 100.\n",
      "Game 41 of 100.\n",
      "Game 51 of 100.\n",
      "Game 61 of 100.\n",
      "Game 71 of 100.\n",
      "Game 81 of 100.\n",
      "Game 91 of 100.\n",
      "total time: 2.251128673553467\n"
     ]
    }
   ],
   "source": [
    "num_games = 100\n",
    "start_time = time.time()\n",
    "(outcomes, metadata) = train.q_learning(model_tf, num_games)\n",
    "end_time = time.time()\n",
    "total_time = end_time - start_time\n",
    "print(\"total time:\", total_time)"
   ]
  },
  {
   "cell_type": "code",
   "execution_count": 5,
   "metadata": {
    "collapsed": false
   },
   "outputs": [],
   "source": [
    "outcomes = np.array(outcomes)\n",
    "\n",
    "num_samples = min(1000, num_games)\n",
    "interval = math.ceil(num_games / num_samples)\n",
    "local_length = max(interval, min(int(num_games / 10), 100))\n",
    "\n",
    "recent_percent_invalid = [np.vectorize(lambda x: int(x==train.Outcome.INVALID))(outcomes[n:(n + local_length)]).sum() / \n",
    "                          local_length\n",
    "                          for n in range(0, len(outcomes) - local_length, interval)]\n",
    "recent_percent_loss = [np.vectorize(lambda x: int(x==train.Outcome.LOSS))(outcomes[n:(n + local_length)]).sum() / local_length\n",
    "                          for n in range(0, len(outcomes) - local_length, interval)]\n",
    "recent_percent_tie = [np.vectorize(lambda x: int(x==train.Outcome.TIE))(outcomes[n:(n + local_length)]).sum() / local_length\n",
    "                          for n in range(0, len(outcomes) - local_length, interval)]\n",
    "recent_percent_win = [np.vectorize(lambda x: int(x==train.Outcome.WIN))(outcomes[n:(n + local_length)]).sum() / local_length\n",
    "                          for n in range(0, len(outcomes) - local_length, interval)]"
   ]
  },
  {
   "cell_type": "code",
   "execution_count": 6,
   "metadata": {
    "collapsed": false,
    "scrolled": false
   },
   "outputs": [
    {
     "data": {
      "image/png": "[encoded data removed]",
      "text/plain": [
       "<Figure size 720x432 with 1 Axes>"
      ]
     },
     "metadata": {
      "needs_background": "light"
     },
     "output_type": "display_data"
    }
   ],
   "source": [
    "fig = plt.figure(figsize=(10, 6))\n",
    "ax = fig.add_subplot(1, 1, 1)\n",
    "y_lenth = len(recent_percent_invalid)\n",
    "ax.plot(list(range(y_lenth)), recent_percent_invalid, 'r')\n",
    "ax.plot(list(range(y_lenth)), recent_percent_loss, 'k')\n",
    "ax.plot(list(range(y_lenth)), recent_percent_tie, 'b')\n",
    "ax.plot(list(range(y_lenth)), recent_percent_win, 'g')\n",
    "ax.set_ylim(-0.01, 1.01)\n",
    "plt.show()"
   ]
  },
  {
   "cell_type": "code",
   "execution_count": 7,
   "metadata": {
    "collapsed": false
   },
   "outputs": [
    {
     "data": {
      "text/plain": [
       "{'decay_factor': 0.999,\n",
       " 'eps': 0.4523960735568548,\n",
       " 'num_games': 100,\n",
       " 'opponent': 'random',\n",
       " 'rewards': (0, 0.25, 0.5, 2),\n",
       " 'state_values': (1, 0, -1),\n",
       " 'y': 0.95}"
      ]
     },
     "execution_count": 7,
     "metadata": {},
     "output_type": "execute_result"
    }
   ],
   "source": [
    "metadata"
   ]
  },
  {
   "cell_type": "code",
   "execution_count": null,
   "metadata": {
    "collapsed": true
   },
   "outputs": [],
   "source": []
  },
  {
   "cell_type": "code",
   "execution_count": null,
   "metadata": {
    "collapsed": false
   },
   "outputs": [],
   "source": [
    "model_directory = 'model_v1'\n",
    "model.save(model_directory)"
   ]
  },
  {
   "cell_type": "code",
   "execution_count": null,
   "metadata": {
    "collapsed": true
   },
   "outputs": [],
   "source": [
    "m = tf.keras.models.load_model(model_directory)"
   ]
  },
  {
   "cell_type": "code",
   "execution_count": null,
   "metadata": {
    "collapsed": false
   },
   "outputs": [],
   "source": [
    "m.summary()"
   ]
  },
  {
   "cell_type": "code",
   "execution_count": null,
   "metadata": {
    "collapsed": true
   },
   "outputs": [],
   "source": []
  }
 ],
 "metadata": {
  "kernelspec": {
   "display_name": "tictactoe",
   "language": "python",
   "name": "tictactoe"
  },
  "language_info": {
   "codemirror_mode": {
    "name": "ipython",
    "version": 3
   },
   "file_extension": ".py",
   "mimetype": "text/x-python",
   "name": "python",
   "nbconvert_exporter": "python",
   "pygments_lexer": "ipython3",
   "version": "3.5.4"
  }
 },
 "nbformat": 4,
 "nbformat_minor": 0
}
